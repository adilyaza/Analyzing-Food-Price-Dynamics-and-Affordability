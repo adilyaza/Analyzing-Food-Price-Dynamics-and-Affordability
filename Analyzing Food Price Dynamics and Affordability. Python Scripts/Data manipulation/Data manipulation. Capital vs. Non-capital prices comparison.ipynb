{
 "cells": [
  {
   "cell_type": "markdown",
   "id": "65a6710a",
   "metadata": {},
   "source": [
    "<a id='top'></a>\n",
    "### Table of contents\n",
    "\n",
    "1. Importing Visualization Libraries and Data\n",
    "\n",
    "2. [Adding capital/non_capital flag to the data](#flag)"
   ]
  },
  {
   "cell_type": "code",
   "execution_count": 27,
   "id": "f0c06256",
   "metadata": {},
   "outputs": [],
   "source": [
    "import pandas as pd\n",
    "import numpy as np\n",
    "import os\n",
    "import seaborn as sns\n",
    "import matplotlib.pyplot as plt\n",
    "import scipy\n",
    "from scipy import stats\n",
    "from scipy.stats import pearsonr\n",
    "import sklearn\n",
    "from sklearn import preprocessing\n",
    "from sklearn.preprocessing import scale\n",
    "from pylab import rcParams\n",
    "import matplotlib.ticker as mt\n",
    "from matplotlib.ticker import ScalarFormatter\n",
    "from fuzzywuzzy import process, fuzz\n",
    "from datetime import date\n",
    "from datetime import datetime"
   ]
  },
  {
   "cell_type": "code",
   "execution_count": 28,
   "id": "9781257f",
   "metadata": {},
   "outputs": [],
   "source": [
    "path=r'C:\\Users\\frauz\\Documents\\Python Projects\\Final Project\\Data\\Data Prepared' #creating a path\n",
    "path1=r'C:\\Users\\frauz\\Documents\\Python Projects\\Final Project\\Data' #creating a path"
   ]
  },
  {
   "cell_type": "markdown",
   "id": "5e8fd7da",
   "metadata": {},
   "source": [
    "<a id='flag'></a>\n",
    "### Adding capital/non_capital flag to the data\n",
    "\n",
    "[Back to top](#top)\n",
    "\n",
    "Using cleaned, merged, not grouped data without new variables, I flag price records made in capitals vs outside of capitals."
   ]
  },
  {
   "cell_type": "code",
   "execution_count": 29,
   "id": "3236f167",
   "metadata": {},
   "outputs": [],
   "source": [
    "df_prices= pd.read_pickle(os.path.join(path, 'food_prices_market_unaggregated.pkl'))\n",
    "df_capitals= pd.read_csv(os.path.join(path, 'countries_markets_capitals.csv'))"
   ]
  },
  {
   "cell_type": "code",
   "execution_count": 30,
   "id": "3e7878b6",
   "metadata": {},
   "outputs": [
    {
     "data": {
      "text/html": [
       "<div>\n",
       "<style scoped>\n",
       "    .dataframe tbody tr th:only-of-type {\n",
       "        vertical-align: middle;\n",
       "    }\n",
       "\n",
       "    .dataframe tbody tr th {\n",
       "        vertical-align: top;\n",
       "    }\n",
       "\n",
       "    .dataframe thead th {\n",
       "        text-align: right;\n",
       "    }\n",
       "</style>\n",
       "<table border=\"1\" class=\"dataframe\">\n",
       "  <thead>\n",
       "    <tr style=\"text-align: right;\">\n",
       "      <th></th>\n",
       "      <th>date</th>\n",
       "      <th>market</th>\n",
       "      <th>latitude</th>\n",
       "      <th>longitude</th>\n",
       "      <th>category</th>\n",
       "      <th>currency</th>\n",
       "      <th>iso</th>\n",
       "      <th>measure_unit</th>\n",
       "      <th>product_name</th>\n",
       "      <th>price_unit</th>\n",
       "      <th>usdprice_unit</th>\n",
       "    </tr>\n",
       "  </thead>\n",
       "  <tbody>\n",
       "    <tr>\n",
       "      <th>2</th>\n",
       "      <td>2000-01-15</td>\n",
       "      <td>Hirat</td>\n",
       "      <td>34.346944</td>\n",
       "      <td>62.198333</td>\n",
       "      <td>cereals and tubers</td>\n",
       "      <td>AFN</td>\n",
       "      <td>AFG</td>\n",
       "      <td>KG</td>\n",
       "      <td>Bread</td>\n",
       "      <td>15.63</td>\n",
       "      <td>0.3340</td>\n",
       "    </tr>\n",
       "    <tr>\n",
       "      <th>3</th>\n",
       "      <td>2000-01-15</td>\n",
       "      <td>Hirat</td>\n",
       "      <td>34.346944</td>\n",
       "      <td>62.198333</td>\n",
       "      <td>cereals and tubers</td>\n",
       "      <td>AFN</td>\n",
       "      <td>AFG</td>\n",
       "      <td>KG</td>\n",
       "      <td>Wheat</td>\n",
       "      <td>9.13</td>\n",
       "      <td>0.1951</td>\n",
       "    </tr>\n",
       "    <tr>\n",
       "      <th>4</th>\n",
       "      <td>2000-01-15</td>\n",
       "      <td>Hirat</td>\n",
       "      <td>34.346944</td>\n",
       "      <td>62.198333</td>\n",
       "      <td>cereals and tubers</td>\n",
       "      <td>AFN</td>\n",
       "      <td>AFG</td>\n",
       "      <td>KG</td>\n",
       "      <td>Wheat flour</td>\n",
       "      <td>10.06</td>\n",
       "      <td>0.2150</td>\n",
       "    </tr>\n",
       "    <tr>\n",
       "      <th>6</th>\n",
       "      <td>2000-01-15</td>\n",
       "      <td>Kabul</td>\n",
       "      <td>34.516667</td>\n",
       "      <td>69.183333</td>\n",
       "      <td>cereals and tubers</td>\n",
       "      <td>AFN</td>\n",
       "      <td>AFG</td>\n",
       "      <td>KG</td>\n",
       "      <td>Bread</td>\n",
       "      <td>14.26</td>\n",
       "      <td>0.3048</td>\n",
       "    </tr>\n",
       "    <tr>\n",
       "      <th>7</th>\n",
       "      <td>2000-01-15</td>\n",
       "      <td>Kabul</td>\n",
       "      <td>34.516667</td>\n",
       "      <td>69.183333</td>\n",
       "      <td>cereals and tubers</td>\n",
       "      <td>AFN</td>\n",
       "      <td>AFG</td>\n",
       "      <td>KG</td>\n",
       "      <td>Wheat</td>\n",
       "      <td>13.75</td>\n",
       "      <td>0.2939</td>\n",
       "    </tr>\n",
       "  </tbody>\n",
       "</table>\n",
       "</div>"
      ],
      "text/plain": [
       "        date market   latitude  longitude            category currency  iso  \\\n",
       "2 2000-01-15  Hirat  34.346944  62.198333  cereals and tubers      AFN  AFG   \n",
       "3 2000-01-15  Hirat  34.346944  62.198333  cereals and tubers      AFN  AFG   \n",
       "4 2000-01-15  Hirat  34.346944  62.198333  cereals and tubers      AFN  AFG   \n",
       "6 2000-01-15  Kabul  34.516667  69.183333  cereals and tubers      AFN  AFG   \n",
       "7 2000-01-15  Kabul  34.516667  69.183333  cereals and tubers      AFN  AFG   \n",
       "\n",
       "  measure_unit product_name  price_unit  usdprice_unit  \n",
       "2           KG        Bread       15.63         0.3340  \n",
       "3           KG        Wheat        9.13         0.1951  \n",
       "4           KG  Wheat flour       10.06         0.2150  \n",
       "6           KG        Bread       14.26         0.3048  \n",
       "7           KG        Wheat       13.75         0.2939  "
      ]
     },
     "execution_count": 30,
     "metadata": {},
     "output_type": "execute_result"
    }
   ],
   "source": [
    "df_prices.head()"
   ]
  },
  {
   "cell_type": "code",
   "execution_count": 31,
   "id": "db7d301a",
   "metadata": {},
   "outputs": [
    {
     "data": {
      "text/html": [
       "<div>\n",
       "<style scoped>\n",
       "    .dataframe tbody tr th:only-of-type {\n",
       "        vertical-align: middle;\n",
       "    }\n",
       "\n",
       "    .dataframe tbody tr th {\n",
       "        vertical-align: top;\n",
       "    }\n",
       "\n",
       "    .dataframe thead th {\n",
       "        text-align: right;\n",
       "    }\n",
       "</style>\n",
       "<table border=\"1\" class=\"dataframe\">\n",
       "  <thead>\n",
       "    <tr style=\"text-align: right;\">\n",
       "      <th></th>\n",
       "      <th>Column1</th>\n",
       "      <th>iso</th>\n",
       "      <th>country</th>\n",
       "      <th>market</th>\n",
       "      <th>capital_market</th>\n",
       "      <th>latitude</th>\n",
       "      <th>longitude</th>\n",
       "      <th>Capital</th>\n",
       "    </tr>\n",
       "  </thead>\n",
       "  <tbody>\n",
       "    <tr>\n",
       "      <th>0</th>\n",
       "      <td>0</td>\n",
       "      <td>AFG</td>\n",
       "      <td>Afghanistan</td>\n",
       "      <td>Fayzabad</td>\n",
       "      <td>non_capital</td>\n",
       "      <td>37.116638</td>\n",
       "      <td>70.580022</td>\n",
       "      <td>Kabul</td>\n",
       "    </tr>\n",
       "    <tr>\n",
       "      <th>1</th>\n",
       "      <td>1</td>\n",
       "      <td>AFG</td>\n",
       "      <td>Afghanistan</td>\n",
       "      <td>Hirat</td>\n",
       "      <td>non_capital</td>\n",
       "      <td>34.346944</td>\n",
       "      <td>62.198333</td>\n",
       "      <td>Kabul</td>\n",
       "    </tr>\n",
       "    <tr>\n",
       "      <th>2</th>\n",
       "      <td>2</td>\n",
       "      <td>AFG</td>\n",
       "      <td>Afghanistan</td>\n",
       "      <td>Jalalabad</td>\n",
       "      <td>non_capital</td>\n",
       "      <td>34.426111</td>\n",
       "      <td>70.451389</td>\n",
       "      <td>Kabul</td>\n",
       "    </tr>\n",
       "    <tr>\n",
       "      <th>3</th>\n",
       "      <td>3</td>\n",
       "      <td>AFG</td>\n",
       "      <td>Afghanistan</td>\n",
       "      <td>Kabul</td>\n",
       "      <td>capital</td>\n",
       "      <td>34.516667</td>\n",
       "      <td>69.183333</td>\n",
       "      <td>Kabul</td>\n",
       "    </tr>\n",
       "    <tr>\n",
       "      <th>4</th>\n",
       "      <td>4</td>\n",
       "      <td>AFG</td>\n",
       "      <td>Afghanistan</td>\n",
       "      <td>Kandahar</td>\n",
       "      <td>non_capital</td>\n",
       "      <td>31.612500</td>\n",
       "      <td>65.709444</td>\n",
       "      <td>Kabul</td>\n",
       "    </tr>\n",
       "  </tbody>\n",
       "</table>\n",
       "</div>"
      ],
      "text/plain": [
       "   Column1  iso      country     market capital_market   latitude  longitude  \\\n",
       "0        0  AFG  Afghanistan   Fayzabad    non_capital  37.116638  70.580022   \n",
       "1        1  AFG  Afghanistan      Hirat    non_capital  34.346944  62.198333   \n",
       "2        2  AFG  Afghanistan  Jalalabad    non_capital  34.426111  70.451389   \n",
       "3        3  AFG  Afghanistan      Kabul        capital  34.516667  69.183333   \n",
       "4        4  AFG  Afghanistan   Kandahar    non_capital  31.612500  65.709444   \n",
       "\n",
       "  Capital  \n",
       "0   Kabul  \n",
       "1   Kabul  \n",
       "2   Kabul  \n",
       "3   Kabul  \n",
       "4   Kabul  "
      ]
     },
     "execution_count": 31,
     "metadata": {},
     "output_type": "execute_result"
    }
   ],
   "source": [
    "df_capitals.head()"
   ]
  },
  {
   "cell_type": "code",
   "execution_count": 32,
   "id": "c0cb3db9",
   "metadata": {},
   "outputs": [
    {
     "name": "stdout",
     "output_type": "stream",
     "text": [
      "<class 'pandas.core.frame.DataFrame'>\n",
      "Int64Index: 2278815 entries, 2 to 3541113\n",
      "Data columns (total 11 columns):\n",
      " #   Column         Dtype         \n",
      "---  ------         -----         \n",
      " 0   date           datetime64[ns]\n",
      " 1   market         object        \n",
      " 2   latitude       float64       \n",
      " 3   longitude      float64       \n",
      " 4   category       object        \n",
      " 5   currency       object        \n",
      " 6   iso            object        \n",
      " 7   measure_unit   object        \n",
      " 8   product_name   object        \n",
      " 9   price_unit     float64       \n",
      " 10  usdprice_unit  float64       \n",
      "dtypes: datetime64[ns](1), float64(4), object(6)\n",
      "memory usage: 208.6+ MB\n"
     ]
    }
   ],
   "source": [
    "df_prices.info()"
   ]
  },
  {
   "cell_type": "code",
   "execution_count": 33,
   "id": "3fc3ad6f",
   "metadata": {},
   "outputs": [
    {
     "data": {
      "text/plain": [
       "0"
      ]
     },
     "execution_count": 33,
     "metadata": {},
     "output_type": "execute_result"
    }
   ],
   "source": [
    "df_capitals.duplicated().sum() #dataframe countains duplicates"
   ]
  },
  {
   "cell_type": "code",
   "execution_count": 34,
   "id": "63cf2d1b",
   "metadata": {},
   "outputs": [
    {
     "name": "stdout",
     "output_type": "stream",
     "text": [
      "<class 'pandas.core.frame.DataFrame'>\n",
      "Int64Index: 3672 entries, 0 to 3671\n",
      "Data columns (total 8 columns):\n",
      " #   Column          Non-Null Count  Dtype  \n",
      "---  ------          --------------  -----  \n",
      " 0   Column1         3672 non-null   int64  \n",
      " 1   iso             3672 non-null   object \n",
      " 2   country         3672 non-null   object \n",
      " 3   market          3672 non-null   object \n",
      " 4   capital_market  3672 non-null   object \n",
      " 5   latitude        3672 non-null   float64\n",
      " 6   longitude       3672 non-null   float64\n",
      " 7   Capital         3672 non-null   object \n",
      "dtypes: float64(2), int64(1), object(5)\n",
      "memory usage: 258.2+ KB\n"
     ]
    }
   ],
   "source": [
    "df_capitals.drop_duplicates(inplace=True)\n",
    "df_capitals.info()"
   ]
  },
  {
   "cell_type": "code",
   "execution_count": 35,
   "id": "f398edc2",
   "metadata": {},
   "outputs": [
    {
     "name": "stdout",
     "output_type": "stream",
     "text": [
      "<class 'pandas.core.frame.DataFrame'>\n",
      "Int64Index: 2288278 entries, 0 to 2288277\n",
      "Data columns (total 12 columns):\n",
      " #   Column          Dtype         \n",
      "---  ------          -----         \n",
      " 0   date            datetime64[ns]\n",
      " 1   market          object        \n",
      " 2   latitude        float64       \n",
      " 3   longitude       float64       \n",
      " 4   category        object        \n",
      " 5   currency        object        \n",
      " 6   iso             object        \n",
      " 7   measure_unit    object        \n",
      " 8   product_name    object        \n",
      " 9   price_unit      float64       \n",
      " 10  usdprice_unit   float64       \n",
      " 11  capital_market  object        \n",
      "dtypes: datetime64[ns](1), float64(4), object(7)\n",
      "memory usage: 227.0+ MB\n"
     ]
    }
   ],
   "source": [
    "# Merging dataframes to add maret status\n",
    "\n",
    "df_full=df_prices.merge(df_capitals[['iso','market','capital_market']], how='left', on=['iso','market'])\n",
    "df_full.info()"
   ]
  },
  {
   "cell_type": "code",
   "execution_count": 36,
   "id": "8e66fa54",
   "metadata": {},
   "outputs": [
    {
     "data": {
      "text/plain": [
       "date                  0\n",
       "market                0\n",
       "latitude          20122\n",
       "longitude         20122\n",
       "category              0\n",
       "currency              0\n",
       "iso                   0\n",
       "measure_unit          0\n",
       "product_name          0\n",
       "price_unit            0\n",
       "usdprice_unit      2228\n",
       "capital_market        0\n",
       "dtype: int64"
      ]
     },
     "execution_count": 36,
     "metadata": {},
     "output_type": "execute_result"
    }
   ],
   "source": [
    "df_full.isnull().sum()"
   ]
  },
  {
   "cell_type": "code",
   "execution_count": 37,
   "id": "dfa2c40b",
   "metadata": {},
   "outputs": [],
   "source": [
    "# Now I will group the data on country-markettype-product level\n",
    "\n",
    "df_grouped=df_full.groupby(['iso',\n",
    "                            'date',\n",
    "                            'currency',\n",
    "                            'capital_market',\n",
    "                            'product_name']).agg({'price_unit':'mean','usdprice_unit':'mean'})"
   ]
  },
  {
   "cell_type": "code",
   "execution_count": 38,
   "id": "dcf184f2",
   "metadata": {},
   "outputs": [
    {
     "data": {
      "text/html": [
       "<div>\n",
       "<style scoped>\n",
       "    .dataframe tbody tr th:only-of-type {\n",
       "        vertical-align: middle;\n",
       "    }\n",
       "\n",
       "    .dataframe tbody tr th {\n",
       "        vertical-align: top;\n",
       "    }\n",
       "\n",
       "    .dataframe thead th {\n",
       "        text-align: right;\n",
       "    }\n",
       "</style>\n",
       "<table border=\"1\" class=\"dataframe\">\n",
       "  <thead>\n",
       "    <tr style=\"text-align: right;\">\n",
       "      <th></th>\n",
       "      <th>iso</th>\n",
       "      <th>date</th>\n",
       "      <th>currency</th>\n",
       "      <th>capital_market</th>\n",
       "      <th>product_name</th>\n",
       "      <th>price_unit</th>\n",
       "      <th>usdprice_unit</th>\n",
       "    </tr>\n",
       "  </thead>\n",
       "  <tbody>\n",
       "    <tr>\n",
       "      <th>0</th>\n",
       "      <td>AFG</td>\n",
       "      <td>2000-01-15</td>\n",
       "      <td>AFN</td>\n",
       "      <td>capital</td>\n",
       "      <td>Bread</td>\n",
       "      <td>14.260000</td>\n",
       "      <td>0.304800</td>\n",
       "    </tr>\n",
       "    <tr>\n",
       "      <th>1</th>\n",
       "      <td>AFG</td>\n",
       "      <td>2000-01-15</td>\n",
       "      <td>AFN</td>\n",
       "      <td>capital</td>\n",
       "      <td>Wheat</td>\n",
       "      <td>13.750000</td>\n",
       "      <td>0.293900</td>\n",
       "    </tr>\n",
       "    <tr>\n",
       "      <th>2</th>\n",
       "      <td>AFG</td>\n",
       "      <td>2000-01-15</td>\n",
       "      <td>AFN</td>\n",
       "      <td>capital</td>\n",
       "      <td>Wheat flour</td>\n",
       "      <td>18.570000</td>\n",
       "      <td>0.396900</td>\n",
       "    </tr>\n",
       "    <tr>\n",
       "      <th>3</th>\n",
       "      <td>AFG</td>\n",
       "      <td>2000-01-15</td>\n",
       "      <td>AFN</td>\n",
       "      <td>non_capital</td>\n",
       "      <td>Bread</td>\n",
       "      <td>15.580000</td>\n",
       "      <td>0.332967</td>\n",
       "    </tr>\n",
       "    <tr>\n",
       "      <th>4</th>\n",
       "      <td>AFG</td>\n",
       "      <td>2000-01-15</td>\n",
       "      <td>AFN</td>\n",
       "      <td>non_capital</td>\n",
       "      <td>Wheat</td>\n",
       "      <td>11.723333</td>\n",
       "      <td>0.250567</td>\n",
       "    </tr>\n",
       "  </tbody>\n",
       "</table>\n",
       "</div>"
      ],
      "text/plain": [
       "   iso       date currency capital_market product_name  price_unit  \\\n",
       "0  AFG 2000-01-15      AFN        capital        Bread   14.260000   \n",
       "1  AFG 2000-01-15      AFN        capital        Wheat   13.750000   \n",
       "2  AFG 2000-01-15      AFN        capital  Wheat flour   18.570000   \n",
       "3  AFG 2000-01-15      AFN    non_capital        Bread   15.580000   \n",
       "4  AFG 2000-01-15      AFN    non_capital        Wheat   11.723333   \n",
       "\n",
       "   usdprice_unit  \n",
       "0       0.304800  \n",
       "1       0.293900  \n",
       "2       0.396900  \n",
       "3       0.332967  \n",
       "4       0.250567  "
      ]
     },
     "execution_count": 38,
     "metadata": {},
     "output_type": "execute_result"
    }
   ],
   "source": [
    "df_grouped.reset_index(inplace=True)\n",
    "df_grouped.head()"
   ]
  },
  {
   "cell_type": "code",
   "execution_count": 39,
   "id": "773f4961",
   "metadata": {},
   "outputs": [
    {
     "data": {
      "text/plain": [
       "False    193836\n",
       "dtype: int64"
      ]
     },
     "execution_count": 39,
     "metadata": {},
     "output_type": "execute_result"
    }
   ],
   "source": [
    "\n",
    "\n",
    "df_grouped.duplicated().value_counts()"
   ]
  },
  {
   "cell_type": "code",
   "execution_count": 40,
   "id": "f7f01edd",
   "metadata": {},
   "outputs": [
    {
     "data": {
      "text/plain": [
       "False    193836\n",
       "dtype: int64"
      ]
     },
     "execution_count": 40,
     "metadata": {},
     "output_type": "execute_result"
    }
   ],
   "source": [
    "df_grouped.duplicated().value_counts()"
   ]
  },
  {
   "cell_type": "code",
   "execution_count": 41,
   "id": "c7ff71f5",
   "metadata": {},
   "outputs": [
    {
     "data": {
      "text/plain": [
       "iso                               ZWE\n",
       "date              2018-12-15 00:00:00\n",
       "currency                          USD\n",
       "capital_market            non_capital\n",
       "product_name                     Salt\n",
       "price_unit                   0.000117\n",
       "usdprice_unit                0.000117\n",
       "Name: 193453, dtype: object"
      ]
     },
     "execution_count": 41,
     "metadata": {},
     "output_type": "execute_result"
    }
   ],
   "source": [
    "df_grouped.loc[df_grouped['price_unit'].idxmin()]"
   ]
  },
  {
   "cell_type": "code",
   "execution_count": 42,
   "id": "a84d673b",
   "metadata": {
    "scrolled": true
   },
   "outputs": [
    {
     "data": {
      "text/plain": [
       "iso                               BLR\n",
       "date              2009-01-15 00:00:00\n",
       "currency                          BYR\n",
       "capital_market                capital\n",
       "product_name                    Bread\n",
       "price_unit                       0.25\n",
       "usdprice_unit                     0.0\n",
       "Name: 19405, dtype: object"
      ]
     },
     "execution_count": 42,
     "metadata": {},
     "output_type": "execute_result"
    }
   ],
   "source": [
    "df_grouped.loc[df_grouped['usdprice_unit'].idxmin()]"
   ]
  },
  {
   "cell_type": "code",
   "execution_count": 43,
   "id": "bb9afa41",
   "metadata": {},
   "outputs": [
    {
     "data": {
      "text/plain": [
       "iso                               SOM\n",
       "date              2015-12-15 00:00:00\n",
       "currency                          SOS\n",
       "capital_market            non_capital\n",
       "product_name                     Meat\n",
       "price_unit                 17250000.0\n",
       "usdprice_unit              29896.0139\n",
       "Name: 152305, dtype: object"
      ]
     },
     "execution_count": 43,
     "metadata": {},
     "output_type": "execute_result"
    }
   ],
   "source": [
    "df_grouped.loc[df_grouped['price_unit'].idxmax()]"
   ]
  },
  {
   "cell_type": "code",
   "execution_count": 44,
   "id": "c4f1d651",
   "metadata": {},
   "outputs": [
    {
     "data": {
      "text/plain": [
       "iso               0\n",
       "date              0\n",
       "currency          0\n",
       "capital_market    0\n",
       "product_name      0\n",
       "price_unit        0\n",
       "usdprice_unit     0\n",
       "dtype: int64"
      ]
     },
     "execution_count": 44,
     "metadata": {},
     "output_type": "execute_result"
    }
   ],
   "source": [
    "df_grouped. isnull().sum()"
   ]
  },
  {
   "cell_type": "code",
   "execution_count": 45,
   "id": "05be6d59",
   "metadata": {},
   "outputs": [],
   "source": [
    "# exporting the data \n",
    "\n",
    "df_grouped.to_pickle(os.path.join(path, 'food_prices_market_cap_noncap.pkl'))"
   ]
  },
  {
   "cell_type": "code",
   "execution_count": null,
   "id": "a8563c3f",
   "metadata": {},
   "outputs": [],
   "source": []
  }
 ],
 "metadata": {
  "kernelspec": {
   "display_name": "Python 3 (ipykernel)",
   "language": "python",
   "name": "python3"
  },
  "language_info": {
   "codemirror_mode": {
    "name": "ipython",
    "version": 3
   },
   "file_extension": ".py",
   "mimetype": "text/x-python",
   "name": "python",
   "nbconvert_exporter": "python",
   "pygments_lexer": "ipython3",
   "version": "3.10.9"
  }
 },
 "nbformat": 4,
 "nbformat_minor": 5
}
