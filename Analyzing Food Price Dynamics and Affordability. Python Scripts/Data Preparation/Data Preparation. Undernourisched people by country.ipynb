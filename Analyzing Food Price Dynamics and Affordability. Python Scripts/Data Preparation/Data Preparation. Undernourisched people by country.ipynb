{
 "cells": [
  {
   "cell_type": "code",
   "execution_count": 1,
   "id": "802684ef",
   "metadata": {},
   "outputs": [],
   "source": [
    "import pandas as pd\n",
    "import numpy as np\n",
    "import os\n",
    "import seaborn as sns\n",
    "import matplotlib.pyplot as plt\n",
    "import scipy\n",
    "from scipy import stats\n",
    "from scipy.stats import pearsonr\n",
    "import sklearn\n",
    "from sklearn import preprocessing\n",
    "from sklearn.preprocessing import scale\n",
    "from pylab import rcParams\n",
    "import matplotlib.ticker as mt\n",
    "from matplotlib.ticker import ScalarFormatter"
   ]
  },
  {
   "cell_type": "markdown",
   "id": "8611633f",
   "metadata": {},
   "source": [
    "<a id='top'></a>\n",
    "# World Food Programme: food price and affordability analysis\n",
    "#### Data understanding and preparation\n",
    "### [Food and agriculture organisation in the UN: Number of undernourisched people by country](https://www.fao.org/faostat/en/#data/SDGB)\n",
    "\n",
    "#### [Data understanding](#understanding)\n",
    "\n",
    "#### [Data wrangling](#wrangling)\n",
    "\n",
    "#### [Data cleaning](#cleaning)\n",
    "\n",
    "#### [Distribution analysis](#distribution)\n"
   ]
  },
  {
   "cell_type": "markdown",
   "id": "beda0639",
   "metadata": {},
   "source": [
    "<a id='understanding'></a>\n",
    "### Data understanding\n",
    "[Back to top](#top)"
   ]
  },
  {
   "cell_type": "code",
   "execution_count": 2,
   "id": "bd1658bc",
   "metadata": {},
   "outputs": [],
   "source": [
    "path=r'C:\\Users\\frauz\\Documents\\Python Projects\\Final Project\\Data' #creating a path"
   ]
  },
  {
   "cell_type": "code",
   "execution_count": 3,
   "id": "73c93e8b",
   "metadata": {},
   "outputs": [],
   "source": [
    "df_hunger=pd.read_csv(os.path.join(path,'nr_undernourished.csv'),index_col=False) #importing data"
   ]
  },
  {
   "cell_type": "code",
   "execution_count": 4,
   "id": "cd5f85b7",
   "metadata": {},
   "outputs": [
    {
     "data": {
      "text/html": [
       "<div>\n",
       "<style scoped>\n",
       "    .dataframe tbody tr th:only-of-type {\n",
       "        vertical-align: middle;\n",
       "    }\n",
       "\n",
       "    .dataframe tbody tr th {\n",
       "        vertical-align: top;\n",
       "    }\n",
       "\n",
       "    .dataframe thead th {\n",
       "        text-align: right;\n",
       "    }\n",
       "</style>\n",
       "<table border=\"1\" class=\"dataframe\">\n",
       "  <thead>\n",
       "    <tr style=\"text-align: right;\">\n",
       "      <th></th>\n",
       "      <th>Domain Code</th>\n",
       "      <th>Domain</th>\n",
       "      <th>Area Code (M49)</th>\n",
       "      <th>Area</th>\n",
       "      <th>Element Code</th>\n",
       "      <th>Element</th>\n",
       "      <th>Item Code (SDG)</th>\n",
       "      <th>Item</th>\n",
       "      <th>Year Code</th>\n",
       "      <th>Year</th>\n",
       "      <th>Unit</th>\n",
       "      <th>Value</th>\n",
       "      <th>Flag</th>\n",
       "      <th>Flag Description</th>\n",
       "      <th>Note</th>\n",
       "    </tr>\n",
       "  </thead>\n",
       "  <tbody>\n",
       "    <tr>\n",
       "      <th>0</th>\n",
       "      <td>SDGB</td>\n",
       "      <td>SDG Indicators</td>\n",
       "      <td>4</td>\n",
       "      <td>Afghanistan</td>\n",
       "      <td>6132</td>\n",
       "      <td>Value</td>\n",
       "      <td>SN_ITK_DEFCN</td>\n",
       "      <td>2.1.1 Number of undernourished people</td>\n",
       "      <td>2001</td>\n",
       "      <td>2001</td>\n",
       "      <td>million No</td>\n",
       "      <td>9.3</td>\n",
       "      <td>A</td>\n",
       "      <td>Official figure</td>\n",
       "      <td>Estimated | Food and Agriculture Organization ...</td>\n",
       "    </tr>\n",
       "    <tr>\n",
       "      <th>1</th>\n",
       "      <td>SDGB</td>\n",
       "      <td>SDG Indicators</td>\n",
       "      <td>4</td>\n",
       "      <td>Afghanistan</td>\n",
       "      <td>6132</td>\n",
       "      <td>Value</td>\n",
       "      <td>SN_ITK_DEFCN</td>\n",
       "      <td>2.1.1 Number of undernourished people</td>\n",
       "      <td>2002</td>\n",
       "      <td>2002</td>\n",
       "      <td>million No</td>\n",
       "      <td>9.3</td>\n",
       "      <td>A</td>\n",
       "      <td>Official figure</td>\n",
       "      <td>Estimated | Food and Agriculture Organization ...</td>\n",
       "    </tr>\n",
       "    <tr>\n",
       "      <th>2</th>\n",
       "      <td>SDGB</td>\n",
       "      <td>SDG Indicators</td>\n",
       "      <td>4</td>\n",
       "      <td>Afghanistan</td>\n",
       "      <td>6132</td>\n",
       "      <td>Value</td>\n",
       "      <td>SN_ITK_DEFCN</td>\n",
       "      <td>2.1.1 Number of undernourished people</td>\n",
       "      <td>2003</td>\n",
       "      <td>2003</td>\n",
       "      <td>million No</td>\n",
       "      <td>8.7</td>\n",
       "      <td>A</td>\n",
       "      <td>Official figure</td>\n",
       "      <td>Estimated | Food and Agriculture Organization ...</td>\n",
       "    </tr>\n",
       "    <tr>\n",
       "      <th>3</th>\n",
       "      <td>SDGB</td>\n",
       "      <td>SDG Indicators</td>\n",
       "      <td>4</td>\n",
       "      <td>Afghanistan</td>\n",
       "      <td>6132</td>\n",
       "      <td>Value</td>\n",
       "      <td>SN_ITK_DEFCN</td>\n",
       "      <td>2.1.1 Number of undernourished people</td>\n",
       "      <td>2004</td>\n",
       "      <td>2004</td>\n",
       "      <td>million No</td>\n",
       "      <td>8.6</td>\n",
       "      <td>A</td>\n",
       "      <td>Official figure</td>\n",
       "      <td>Estimated | Food and Agriculture Organization ...</td>\n",
       "    </tr>\n",
       "    <tr>\n",
       "      <th>4</th>\n",
       "      <td>SDGB</td>\n",
       "      <td>SDG Indicators</td>\n",
       "      <td>4</td>\n",
       "      <td>Afghanistan</td>\n",
       "      <td>6132</td>\n",
       "      <td>Value</td>\n",
       "      <td>SN_ITK_DEFCN</td>\n",
       "      <td>2.1.1 Number of undernourished people</td>\n",
       "      <td>2005</td>\n",
       "      <td>2005</td>\n",
       "      <td>million No</td>\n",
       "      <td>8.5</td>\n",
       "      <td>A</td>\n",
       "      <td>Official figure</td>\n",
       "      <td>Estimated | Food and Agriculture Organization ...</td>\n",
       "    </tr>\n",
       "  </tbody>\n",
       "</table>\n",
       "</div>"
      ],
      "text/plain": [
       "  Domain Code          Domain  Area Code (M49)         Area  Element Code  \\\n",
       "0        SDGB  SDG Indicators                4  Afghanistan          6132   \n",
       "1        SDGB  SDG Indicators                4  Afghanistan          6132   \n",
       "2        SDGB  SDG Indicators                4  Afghanistan          6132   \n",
       "3        SDGB  SDG Indicators                4  Afghanistan          6132   \n",
       "4        SDGB  SDG Indicators                4  Afghanistan          6132   \n",
       "\n",
       "  Element Item Code (SDG)                                   Item  Year Code  \\\n",
       "0   Value    SN_ITK_DEFCN  2.1.1 Number of undernourished people       2001   \n",
       "1   Value    SN_ITK_DEFCN  2.1.1 Number of undernourished people       2002   \n",
       "2   Value    SN_ITK_DEFCN  2.1.1 Number of undernourished people       2003   \n",
       "3   Value    SN_ITK_DEFCN  2.1.1 Number of undernourished people       2004   \n",
       "4   Value    SN_ITK_DEFCN  2.1.1 Number of undernourished people       2005   \n",
       "\n",
       "   Year        Unit Value Flag Flag Description  \\\n",
       "0  2001  million No   9.3    A  Official figure   \n",
       "1  2002  million No   9.3    A  Official figure   \n",
       "2  2003  million No   8.7    A  Official figure   \n",
       "3  2004  million No   8.6    A  Official figure   \n",
       "4  2005  million No   8.5    A  Official figure   \n",
       "\n",
       "                                                Note  \n",
       "0  Estimated | Food and Agriculture Organization ...  \n",
       "1  Estimated | Food and Agriculture Organization ...  \n",
       "2  Estimated | Food and Agriculture Organization ...  \n",
       "3  Estimated | Food and Agriculture Organization ...  \n",
       "4  Estimated | Food and Agriculture Organization ...  "
      ]
     },
     "execution_count": 4,
     "metadata": {},
     "output_type": "execute_result"
    }
   ],
   "source": [
    "df_hunger.head()"
   ]
  },
  {
   "cell_type": "code",
   "execution_count": 5,
   "id": "980d0161",
   "metadata": {
    "scrolled": true
   },
   "outputs": [
    {
     "name": "stdout",
     "output_type": "stream",
     "text": [
      "<class 'pandas.core.frame.DataFrame'>\n",
      "RangeIndex: 5186 entries, 0 to 5185\n",
      "Data columns (total 15 columns):\n",
      " #   Column            Non-Null Count  Dtype \n",
      "---  ------            --------------  ----- \n",
      " 0   Domain Code       5186 non-null   object\n",
      " 1   Domain            5186 non-null   object\n",
      " 2   Area Code (M49)   5186 non-null   int64 \n",
      " 3   Area              5186 non-null   object\n",
      " 4   Element Code      5186 non-null   int64 \n",
      " 5   Element           5186 non-null   object\n",
      " 6   Item Code (SDG)   5186 non-null   object\n",
      " 7   Item              5186 non-null   object\n",
      " 8   Year Code         5186 non-null   int64 \n",
      " 9   Year              5186 non-null   int64 \n",
      " 10  Unit              5186 non-null   object\n",
      " 11  Value             2560 non-null   object\n",
      " 12  Flag              5186 non-null   object\n",
      " 13  Flag Description  5186 non-null   object\n",
      " 14  Note              5186 non-null   object\n",
      "dtypes: int64(4), object(11)\n",
      "memory usage: 607.9+ KB\n"
     ]
    }
   ],
   "source": [
    "df_hunger.info() #analysing data shape ad data types"
   ]
  },
  {
   "cell_type": "code",
   "execution_count": 6,
   "id": "a1f45304",
   "metadata": {},
   "outputs": [
    {
     "data": {
      "text/html": [
       "<div>\n",
       "<style scoped>\n",
       "    .dataframe tbody tr th:only-of-type {\n",
       "        vertical-align: middle;\n",
       "    }\n",
       "\n",
       "    .dataframe tbody tr th {\n",
       "        vertical-align: top;\n",
       "    }\n",
       "\n",
       "    .dataframe thead th {\n",
       "        text-align: right;\n",
       "    }\n",
       "</style>\n",
       "<table border=\"1\" class=\"dataframe\">\n",
       "  <thead>\n",
       "    <tr style=\"text-align: right;\">\n",
       "      <th></th>\n",
       "      <th>Area Code (M49)</th>\n",
       "      <th>Element Code</th>\n",
       "      <th>Year Code</th>\n",
       "      <th>Year</th>\n",
       "    </tr>\n",
       "  </thead>\n",
       "  <tbody>\n",
       "    <tr>\n",
       "      <th>count</th>\n",
       "      <td>5186.00000</td>\n",
       "      <td>5186.00000</td>\n",
       "      <td>5186.00000</td>\n",
       "      <td>5186.00000</td>\n",
       "    </tr>\n",
       "    <tr>\n",
       "      <th>mean</th>\n",
       "      <td>438.90841</td>\n",
       "      <td>6132.00000</td>\n",
       "      <td>2010.95970</td>\n",
       "      <td>2010.95970</td>\n",
       "    </tr>\n",
       "    <tr>\n",
       "      <th>std</th>\n",
       "      <td>251.85184</td>\n",
       "      <td>0.00000</td>\n",
       "      <td>6.03686</td>\n",
       "      <td>6.03686</td>\n",
       "    </tr>\n",
       "    <tr>\n",
       "      <th>min</th>\n",
       "      <td>4.00000</td>\n",
       "      <td>6132.00000</td>\n",
       "      <td>2001.00000</td>\n",
       "      <td>2001.00000</td>\n",
       "    </tr>\n",
       "    <tr>\n",
       "      <th>25%</th>\n",
       "      <td>226.00000</td>\n",
       "      <td>6132.00000</td>\n",
       "      <td>2006.00000</td>\n",
       "      <td>2006.00000</td>\n",
       "    </tr>\n",
       "    <tr>\n",
       "      <th>50%</th>\n",
       "      <td>440.00000</td>\n",
       "      <td>6132.00000</td>\n",
       "      <td>2011.00000</td>\n",
       "      <td>2011.00000</td>\n",
       "    </tr>\n",
       "    <tr>\n",
       "      <th>75%</th>\n",
       "      <td>659.00000</td>\n",
       "      <td>6132.00000</td>\n",
       "      <td>2016.00000</td>\n",
       "      <td>2016.00000</td>\n",
       "    </tr>\n",
       "    <tr>\n",
       "      <th>max</th>\n",
       "      <td>894.00000</td>\n",
       "      <td>6132.00000</td>\n",
       "      <td>2021.00000</td>\n",
       "      <td>2021.00000</td>\n",
       "    </tr>\n",
       "  </tbody>\n",
       "</table>\n",
       "</div>"
      ],
      "text/plain": [
       "      Area Code (M49) Element Code   Year Code        Year\n",
       "count      5186.00000   5186.00000  5186.00000  5186.00000\n",
       "mean        438.90841   6132.00000  2010.95970  2010.95970\n",
       "std         251.85184      0.00000     6.03686     6.03686\n",
       "min           4.00000   6132.00000  2001.00000  2001.00000\n",
       "25%         226.00000   6132.00000  2006.00000  2006.00000\n",
       "50%         440.00000   6132.00000  2011.00000  2011.00000\n",
       "75%         659.00000   6132.00000  2016.00000  2016.00000\n",
       "max         894.00000   6132.00000  2021.00000  2021.00000"
      ]
     },
     "execution_count": 6,
     "metadata": {},
     "output_type": "execute_result"
    }
   ],
   "source": [
    "df_hunger.describe().apply(lambda s: s.apply('{0:.5f}'.format)) # basic statistics"
   ]
  },
  {
   "cell_type": "code",
   "execution_count": 7,
   "id": "791242b3",
   "metadata": {},
   "outputs": [
    {
     "data": {
      "text/plain": [
       "million No    5186\n",
       "Name: Unit, dtype: int64"
      ]
     },
     "execution_count": 7,
     "metadata": {},
     "output_type": "execute_result"
    }
   ],
   "source": [
    "df_hunger['Unit'].value_counts()"
   ]
  },
  {
   "cell_type": "code",
   "execution_count": 8,
   "id": "49902b64",
   "metadata": {},
   "outputs": [
    {
     "data": {
      "text/plain": [
       "Domain Code            0\n",
       "Domain                 0\n",
       "Area Code (M49)        0\n",
       "Area                   0\n",
       "Element Code           0\n",
       "Element                0\n",
       "Item Code (SDG)        0\n",
       "Item                   0\n",
       "Year Code              0\n",
       "Year                   0\n",
       "Unit                   0\n",
       "Value               2626\n",
       "Flag                   0\n",
       "Flag Description       0\n",
       "Note                   0\n",
       "dtype: int64"
      ]
     },
     "execution_count": 8,
     "metadata": {},
     "output_type": "execute_result"
    }
   ],
   "source": [
    "df_hunger.isnull().sum()"
   ]
  },
  {
   "cell_type": "markdown",
   "id": "505b02bb",
   "metadata": {},
   "source": [
    "<a id='wrangling'></a>\n",
    "### Data wrangling\n",
    "[Back to top](#top)"
   ]
  },
  {
   "cell_type": "code",
   "execution_count": 9,
   "id": "b7f4ca5d",
   "metadata": {},
   "outputs": [
    {
     "data": {
      "text/plain": [
       "['Domain Code',\n",
       " 'Domain',\n",
       " 'Area Code (M49)',\n",
       " 'Area',\n",
       " 'Element Code',\n",
       " 'Element',\n",
       " 'Item Code (SDG)',\n",
       " 'Item',\n",
       " 'Year Code',\n",
       " 'Year',\n",
       " 'Unit',\n",
       " 'Value',\n",
       " 'Flag',\n",
       " 'Flag Description',\n",
       " 'Note']"
      ]
     },
     "execution_count": 9,
     "metadata": {},
     "output_type": "execute_result"
    }
   ],
   "source": [
    "# Out of 15 columns, I leave only 3 that are valuable for the further analysis \n",
    "\n",
    "col_list=df_hunger.columns.to_list()\n",
    "col_list"
   ]
  },
  {
   "cell_type": "code",
   "execution_count": 10,
   "id": "21b90dc5",
   "metadata": {},
   "outputs": [],
   "source": [
    "col_needed=['Area',\n",
    "            'Year',\n",
    "            'Value']"
   ]
  },
  {
   "cell_type": "code",
   "execution_count": 11,
   "id": "66afb9ef",
   "metadata": {
    "scrolled": true
   },
   "outputs": [
    {
     "data": {
      "text/plain": [
       "['Flag Description',\n",
       " 'Item Code (SDG)',\n",
       " 'Item',\n",
       " 'Domain',\n",
       " 'Flag',\n",
       " 'Note',\n",
       " 'Element',\n",
       " 'Year Code',\n",
       " 'Area Code (M49)',\n",
       " 'Element Code',\n",
       " 'Unit',\n",
       " 'Domain Code']"
      ]
     },
     "execution_count": 11,
     "metadata": {},
     "output_type": "execute_result"
    }
   ],
   "source": [
    "# removing the list of needed columns from the main list\n",
    "\n",
    "remove_cols=list(set(col_list)-set(col_needed))\n",
    "remove_cols"
   ]
  },
  {
   "cell_type": "code",
   "execution_count": 12,
   "id": "f9684ead",
   "metadata": {},
   "outputs": [],
   "source": [
    "# Dropping the unnecessary columns\n",
    "\n",
    "df_hun=df_hunger.drop(columns=remove_cols)"
   ]
  },
  {
   "cell_type": "code",
   "execution_count": 13,
   "id": "d49dd871",
   "metadata": {},
   "outputs": [
    {
     "data": {
      "text/html": [
       "<div>\n",
       "<style scoped>\n",
       "    .dataframe tbody tr th:only-of-type {\n",
       "        vertical-align: middle;\n",
       "    }\n",
       "\n",
       "    .dataframe tbody tr th {\n",
       "        vertical-align: top;\n",
       "    }\n",
       "\n",
       "    .dataframe thead th {\n",
       "        text-align: right;\n",
       "    }\n",
       "</style>\n",
       "<table border=\"1\" class=\"dataframe\">\n",
       "  <thead>\n",
       "    <tr style=\"text-align: right;\">\n",
       "      <th></th>\n",
       "      <th>Area</th>\n",
       "      <th>Year</th>\n",
       "      <th>Value</th>\n",
       "    </tr>\n",
       "  </thead>\n",
       "  <tbody>\n",
       "    <tr>\n",
       "      <th>0</th>\n",
       "      <td>Afghanistan</td>\n",
       "      <td>2001</td>\n",
       "      <td>9.3</td>\n",
       "    </tr>\n",
       "    <tr>\n",
       "      <th>1</th>\n",
       "      <td>Afghanistan</td>\n",
       "      <td>2002</td>\n",
       "      <td>9.3</td>\n",
       "    </tr>\n",
       "    <tr>\n",
       "      <th>2</th>\n",
       "      <td>Afghanistan</td>\n",
       "      <td>2003</td>\n",
       "      <td>8.7</td>\n",
       "    </tr>\n",
       "    <tr>\n",
       "      <th>3</th>\n",
       "      <td>Afghanistan</td>\n",
       "      <td>2004</td>\n",
       "      <td>8.6</td>\n",
       "    </tr>\n",
       "    <tr>\n",
       "      <th>4</th>\n",
       "      <td>Afghanistan</td>\n",
       "      <td>2005</td>\n",
       "      <td>8.5</td>\n",
       "    </tr>\n",
       "  </tbody>\n",
       "</table>\n",
       "</div>"
      ],
      "text/plain": [
       "          Area  Year Value\n",
       "0  Afghanistan  2001   9.3\n",
       "1  Afghanistan  2002   9.3\n",
       "2  Afghanistan  2003   8.7\n",
       "3  Afghanistan  2004   8.6\n",
       "4  Afghanistan  2005   8.5"
      ]
     },
     "execution_count": 13,
     "metadata": {},
     "output_type": "execute_result"
    }
   ],
   "source": [
    "df_hun.head()"
   ]
  },
  {
   "cell_type": "code",
   "execution_count": 14,
   "id": "5b6681f7",
   "metadata": {},
   "outputs": [],
   "source": [
    "# Renaming the columns\n",
    "df_hun.rename(columns={'Area':'country',\n",
    "                       'Year':'year',\n",
    "                       'Value':'millions_undernourished'},\n",
    "                       inplace=True)"
   ]
  },
  {
   "cell_type": "code",
   "execution_count": 15,
   "id": "c73e75c2",
   "metadata": {},
   "outputs": [
    {
     "data": {
      "text/html": [
       "<div>\n",
       "<style scoped>\n",
       "    .dataframe tbody tr th:only-of-type {\n",
       "        vertical-align: middle;\n",
       "    }\n",
       "\n",
       "    .dataframe tbody tr th {\n",
       "        vertical-align: top;\n",
       "    }\n",
       "\n",
       "    .dataframe thead th {\n",
       "        text-align: right;\n",
       "    }\n",
       "</style>\n",
       "<table border=\"1\" class=\"dataframe\">\n",
       "  <thead>\n",
       "    <tr style=\"text-align: right;\">\n",
       "      <th></th>\n",
       "      <th>country</th>\n",
       "      <th>year</th>\n",
       "      <th>millions_undernourished</th>\n",
       "    </tr>\n",
       "  </thead>\n",
       "  <tbody>\n",
       "    <tr>\n",
       "      <th>0</th>\n",
       "      <td>Afghanistan</td>\n",
       "      <td>2001</td>\n",
       "      <td>9.3</td>\n",
       "    </tr>\n",
       "    <tr>\n",
       "      <th>1</th>\n",
       "      <td>Afghanistan</td>\n",
       "      <td>2002</td>\n",
       "      <td>9.3</td>\n",
       "    </tr>\n",
       "    <tr>\n",
       "      <th>2</th>\n",
       "      <td>Afghanistan</td>\n",
       "      <td>2003</td>\n",
       "      <td>8.7</td>\n",
       "    </tr>\n",
       "    <tr>\n",
       "      <th>3</th>\n",
       "      <td>Afghanistan</td>\n",
       "      <td>2004</td>\n",
       "      <td>8.6</td>\n",
       "    </tr>\n",
       "    <tr>\n",
       "      <th>4</th>\n",
       "      <td>Afghanistan</td>\n",
       "      <td>2005</td>\n",
       "      <td>8.5</td>\n",
       "    </tr>\n",
       "    <tr>\n",
       "      <th>5</th>\n",
       "      <td>Afghanistan</td>\n",
       "      <td>2006</td>\n",
       "      <td>8.1</td>\n",
       "    </tr>\n",
       "    <tr>\n",
       "      <th>6</th>\n",
       "      <td>Afghanistan</td>\n",
       "      <td>2007</td>\n",
       "      <td>7.4</td>\n",
       "    </tr>\n",
       "    <tr>\n",
       "      <th>7</th>\n",
       "      <td>Afghanistan</td>\n",
       "      <td>2008</td>\n",
       "      <td>6.8</td>\n",
       "    </tr>\n",
       "    <tr>\n",
       "      <th>8</th>\n",
       "      <td>Afghanistan</td>\n",
       "      <td>2009</td>\n",
       "      <td>6.1</td>\n",
       "    </tr>\n",
       "    <tr>\n",
       "      <th>9</th>\n",
       "      <td>Afghanistan</td>\n",
       "      <td>2010</td>\n",
       "      <td>5.8</td>\n",
       "    </tr>\n",
       "  </tbody>\n",
       "</table>\n",
       "</div>"
      ],
      "text/plain": [
       "       country  year millions_undernourished\n",
       "0  Afghanistan  2001                     9.3\n",
       "1  Afghanistan  2002                     9.3\n",
       "2  Afghanistan  2003                     8.7\n",
       "3  Afghanistan  2004                     8.6\n",
       "4  Afghanistan  2005                     8.5\n",
       "5  Afghanistan  2006                     8.1\n",
       "6  Afghanistan  2007                     7.4\n",
       "7  Afghanistan  2008                     6.8\n",
       "8  Afghanistan  2009                     6.1\n",
       "9  Afghanistan  2010                     5.8"
      ]
     },
     "execution_count": 15,
     "metadata": {},
     "output_type": "execute_result"
    }
   ],
   "source": [
    "df_hun.head(10)"
   ]
  },
  {
   "cell_type": "code",
   "execution_count": 16,
   "id": "2e77694d",
   "metadata": {
    "scrolled": true
   },
   "outputs": [
    {
     "data": {
      "text/plain": [
       "country                    object\n",
       "year                        int64\n",
       "millions_undernourished    object\n",
       "dtype: object"
      ]
     },
     "execution_count": 16,
     "metadata": {},
     "output_type": "execute_result"
    }
   ],
   "source": [
    "df_hun.dtypes # checking data types."
   ]
  },
  {
   "cell_type": "code",
   "execution_count": 17,
   "id": "4ba68102",
   "metadata": {},
   "outputs": [],
   "source": [
    "# Dataframe contains values <0.1 that can't be changed to floats. They will be replaced with '0.1'\n",
    "\n",
    "df_hun.replace('<0.1', '0.1', inplace=True)"
   ]
  },
  {
   "cell_type": "code",
   "execution_count": 18,
   "id": "53e6fc25",
   "metadata": {},
   "outputs": [],
   "source": [
    "# Changing the data types\n",
    "\n",
    "df_hun=df_hun.astype({'millions_undernourished':'float'})"
   ]
  },
  {
   "cell_type": "code",
   "execution_count": 19,
   "id": "a0e72a2f",
   "metadata": {
    "scrolled": true
   },
   "outputs": [
    {
     "data": {
      "text/plain": [
       "country                     object\n",
       "year                         int64\n",
       "millions_undernourished    float64\n",
       "dtype: object"
      ]
     },
     "execution_count": 19,
     "metadata": {},
     "output_type": "execute_result"
    }
   ],
   "source": [
    "df_hun.dtypes"
   ]
  },
  {
   "cell_type": "code",
   "execution_count": 20,
   "id": "b877a75d",
   "metadata": {
    "scrolled": true
   },
   "outputs": [
    {
     "data": {
      "text/html": [
       "<div>\n",
       "<style scoped>\n",
       "    .dataframe tbody tr th:only-of-type {\n",
       "        vertical-align: middle;\n",
       "    }\n",
       "\n",
       "    .dataframe tbody tr th {\n",
       "        vertical-align: top;\n",
       "    }\n",
       "\n",
       "    .dataframe thead th {\n",
       "        text-align: right;\n",
       "    }\n",
       "</style>\n",
       "<table border=\"1\" class=\"dataframe\">\n",
       "  <thead>\n",
       "    <tr style=\"text-align: right;\">\n",
       "      <th></th>\n",
       "      <th>year</th>\n",
       "      <th>millions_undernourished</th>\n",
       "    </tr>\n",
       "  </thead>\n",
       "  <tbody>\n",
       "    <tr>\n",
       "      <th>count</th>\n",
       "      <td>5186.000000</td>\n",
       "      <td>2560.000000</td>\n",
       "    </tr>\n",
       "    <tr>\n",
       "      <th>mean</th>\n",
       "      <td>2010.959699</td>\n",
       "      <td>5.304570</td>\n",
       "    </tr>\n",
       "    <tr>\n",
       "      <th>std</th>\n",
       "      <td>6.036862</td>\n",
       "      <td>19.913341</td>\n",
       "    </tr>\n",
       "    <tr>\n",
       "      <th>min</th>\n",
       "      <td>2001.000000</td>\n",
       "      <td>0.100000</td>\n",
       "    </tr>\n",
       "    <tr>\n",
       "      <th>25%</th>\n",
       "      <td>2006.000000</td>\n",
       "      <td>0.200000</td>\n",
       "    </tr>\n",
       "    <tr>\n",
       "      <th>50%</th>\n",
       "      <td>2011.000000</td>\n",
       "      <td>1.300000</td>\n",
       "    </tr>\n",
       "    <tr>\n",
       "      <th>75%</th>\n",
       "      <td>2016.000000</td>\n",
       "      <td>3.800000</td>\n",
       "    </tr>\n",
       "    <tr>\n",
       "      <th>max</th>\n",
       "      <td>2021.000000</td>\n",
       "      <td>249.600000</td>\n",
       "    </tr>\n",
       "  </tbody>\n",
       "</table>\n",
       "</div>"
      ],
      "text/plain": [
       "              year  millions_undernourished\n",
       "count  5186.000000              2560.000000\n",
       "mean   2010.959699                 5.304570\n",
       "std       6.036862                19.913341\n",
       "min    2001.000000                 0.100000\n",
       "25%    2006.000000                 0.200000\n",
       "50%    2011.000000                 1.300000\n",
       "75%    2016.000000                 3.800000\n",
       "max    2021.000000               249.600000"
      ]
     },
     "execution_count": 20,
     "metadata": {},
     "output_type": "execute_result"
    }
   ],
   "source": [
    "df_hun.describe()"
   ]
  },
  {
   "cell_type": "markdown",
   "id": "dac5de5b",
   "metadata": {},
   "source": [
    "<a id='cleaning'></a>\n",
    "### Data cleaning\n",
    "[Back to top](#top)"
   ]
  },
  {
   "cell_type": "code",
   "execution_count": 21,
   "id": "642ee11f",
   "metadata": {},
   "outputs": [
    {
     "data": {
      "text/plain": [
       "country                       0\n",
       "year                          0\n",
       "millions_undernourished    2626\n",
       "dtype: int64"
      ]
     },
     "execution_count": 21,
     "metadata": {},
     "output_type": "execute_result"
    }
   ],
   "source": [
    "# Some countries don't have values for all or some years and countries. Missing values will be handled later when this data is merged with the main data set\n",
    "\n",
    "df_hun.isnull().sum() "
   ]
  },
  {
   "cell_type": "code",
   "execution_count": 22,
   "id": "09e673e7",
   "metadata": {},
   "outputs": [
    {
     "data": {
      "text/plain": [
       "2001    248\n",
       "2002    248\n",
       "2019    248\n",
       "2018    248\n",
       "2017    248\n",
       "2016    248\n",
       "2015    248\n",
       "2014    248\n",
       "2013    248\n",
       "2012    248\n",
       "2011    248\n",
       "2010    248\n",
       "2009    248\n",
       "2008    248\n",
       "2007    248\n",
       "2006    248\n",
       "2005    248\n",
       "2004    248\n",
       "2003    248\n",
       "2020    237\n",
       "2021    237\n",
       "Name: year, dtype: int64"
      ]
     },
     "execution_count": 22,
     "metadata": {},
     "output_type": "execute_result"
    }
   ],
   "source": [
    "# Addressig duplicates \n",
    "df_hun['year'].value_counts()"
   ]
  },
  {
   "cell_type": "code",
   "execution_count": 23,
   "id": "e60c7eb5",
   "metadata": {},
   "outputs": [
    {
     "data": {
      "text/plain": [
       "Afghanistan                       21\n",
       "Russian Federation                21\n",
       "Nepal                             21\n",
       "Netherlands (Kingdom of the)      21\n",
       "New Caledonia                     21\n",
       "                                  ..\n",
       "Cocos (Keeling) Islands           19\n",
       "Christmas Island                  19\n",
       "Chagos Archipelago                19\n",
       "Åland Islands                     19\n",
       "Svalbard and Jan Mayen Islands    19\n",
       "Name: country, Length: 248, dtype: int64"
      ]
     },
     "execution_count": 23,
     "metadata": {},
     "output_type": "execute_result"
    }
   ],
   "source": [
    "df_hun['country'].value_counts()"
   ]
  },
  {
   "cell_type": "code",
   "execution_count": 24,
   "id": "dcecb9a9",
   "metadata": {},
   "outputs": [
    {
     "data": {
      "text/plain": [
       "False    5186\n",
       "dtype: int64"
      ]
     },
     "execution_count": 24,
     "metadata": {},
     "output_type": "execute_result"
    }
   ],
   "source": [
    "# Checking for duplicates \n",
    "df_hun.duplicated().value_counts() # no duplicates detected"
   ]
  },
  {
   "cell_type": "markdown",
   "id": "583efbfe",
   "metadata": {},
   "source": [
    "<a id='distribution'></a>\n",
    "### Distribution analysis\n",
    "[Back to top](#top)"
   ]
  },
  {
   "cell_type": "code",
   "execution_count": 25,
   "id": "70515a49",
   "metadata": {},
   "outputs": [],
   "source": [
    "# Normalizing the variables in order to plot the distribution\n",
    "var=df_hun[['year','millions_undernourished']].values # extracting values from the columns\n",
    "\n",
    "scaler=preprocessing.MinMaxScaler() # scaling the data in each column\n",
    "var_scaled=scaler.fit_transform(var)\n",
    "\n",
    "df_scaled=pd.DataFrame(var_scaled) # creating a new dataframe of scaled data\n",
    "df_scaled.columns=['year','millions_undernourished']"
   ]
  },
  {
   "cell_type": "code",
   "execution_count": 25,
   "id": "022498b8",
   "metadata": {},
   "outputs": [
    {
     "data": {
      "image/png": "[encoded data removed]",
      "text/plain": [
       "<Figure size 1400x700 with 1 Axes>"
      ]
     },
     "metadata": {},
     "output_type": "display_data"
    }
   ],
   "source": [
    "%matplotlib inline\n",
    "rcParams['figure.figsize']=14,7\n",
    "sns.set_style('whitegrid')\n",
    "boxplot=sns.boxplot(data=df_scaled, palette='pastel') # plotting the normalized data "
   ]
  },
  {
   "cell_type": "markdown",
   "id": "2793257a",
   "metadata": {},
   "source": [
    "#### Millions of undernourished people data has  a high number of outliers. However, considering that a high numbers are observed in a small number of countries, these values don't look unnatural. "
   ]
  },
  {
   "cell_type": "code",
   "execution_count": 27,
   "id": "ff862319",
   "metadata": {},
   "outputs": [
    {
     "data": {
      "text/plain": [
       "country                    India\n",
       "year                        2004\n",
       "millions_undernourished    249.6\n",
       "Name: 2217, dtype: object"
      ]
     },
     "execution_count": 27,
     "metadata": {},
     "output_type": "execute_result"
    }
   ],
   "source": [
    "# To confirm this assumption I'm looking at the record with the maximum value \n",
    "\n",
    "df_hun.iloc[df_hun['millions_undernourished'].idxmax()] # According to my domain knowledge, this value is accurate"
   ]
  },
  {
   "cell_type": "code",
   "execution_count": 64,
   "id": "4873a574",
   "metadata": {},
   "outputs": [],
   "source": [
    "# Exporting the data for further analysis\n",
    "df_hun.to_pickle(os.path.join(path,'Data Prepared', 'nr_undernourished.pkl'))"
   ]
  },
  {
   "cell_type": "code",
   "execution_count": 27,
   "id": "4a19d939",
   "metadata": {},
   "outputs": [],
   "source": [
    "# Creating a new path\n",
    "\n",
    "path1=r'C:\\Users\\frauz\\Documents\\Python Projects\\My projects'\n",
    "\n"
   ]
  },
  {
   "cell_type": "code",
   "execution_count": 29,
   "id": "9ddb6c05",
   "metadata": {},
   "outputs": [],
   "source": [
    "df_countries=pd.read_csv(os.path.join(path1,'country_names_codes_regions.csv'), encoding='latin1')"
   ]
  },
  {
   "cell_type": "code",
   "execution_count": 30,
   "id": "69d68ded",
   "metadata": {},
   "outputs": [
    {
     "name": "stdout",
     "output_type": "stream",
     "text": [
      "<class 'pandas.core.frame.DataFrame'>\n",
      "RangeIndex: 310 entries, 0 to 309\n",
      "Data columns (total 9 columns):\n",
      " #   Column             Non-Null Count  Dtype \n",
      "---  ------             --------------  ----- \n",
      " 0   Country_Name       310 non-null    object\n",
      " 1   Country            310 non-null    object\n",
      " 2   Currency           310 non-null    object\n",
      " 3   Country_Name_1     310 non-null    object\n",
      " 4   Development_Stage  309 non-null    object\n",
      " 5   Region             310 non-null    object\n",
      " 6   Region_1           310 non-null    object\n",
      " 7   Country_Code_?     310 non-null    object\n",
      " 8   ISO_code           303 non-null    object\n",
      "dtypes: object(9)\n",
      "memory usage: 21.9+ KB\n"
     ]
    }
   ],
   "source": [
    "df_countries.info()"
   ]
  },
  {
   "cell_type": "code",
   "execution_count": 31,
   "id": "14650fde",
   "metadata": {},
   "outputs": [],
   "source": [
    "df_hun_iso=df_hun.merge(df_countries[['Country_Name','ISO_code']], how='left', left_on='country',right_on='Country_Name')"
   ]
  },
  {
   "cell_type": "code",
   "execution_count": 32,
   "id": "16d5c200",
   "metadata": {},
   "outputs": [
    {
     "name": "stdout",
     "output_type": "stream",
     "text": [
      "<class 'pandas.core.frame.DataFrame'>\n",
      "Int64Index: 5186 entries, 0 to 5185\n",
      "Data columns (total 5 columns):\n",
      " #   Column                   Non-Null Count  Dtype  \n",
      "---  ------                   --------------  -----  \n",
      " 0   country                  5186 non-null   object \n",
      " 1   year                     5186 non-null   int64  \n",
      " 2   millions_undernourished  2560 non-null   float64\n",
      " 3   Country_Name             4242 non-null   object \n",
      " 4   ISO_code                 4200 non-null   object \n",
      "dtypes: float64(1), int64(1), object(3)\n",
      "memory usage: 243.1+ KB\n"
     ]
    }
   ],
   "source": [
    "df_hun_iso.info()"
   ]
  },
  {
   "cell_type": "code",
   "execution_count": 35,
   "id": "d01acd82",
   "metadata": {},
   "outputs": [
    {
     "data": {
      "text/plain": [
       "array(['Åland Islands', 'Anguilla', 'Bonaire, Sint Eustatius and Saba',\n",
       "       'British Virgin Islands', 'Chagos Archipelago', 'Channel Islands',\n",
       "       'China, mainland', 'China, Taiwan Province of', 'Christmas Island',\n",
       "       'Cocos (Keeling) Islands', 'Cook Islands', \"Côte d'Ivoire\",\n",
       "       'Curaçao', 'Czechia', \"Democratic People's Republic of Korea\",\n",
       "       'Eswatini', 'Falkland Islands (Malvinas)',\n",
       "       'French Southern Territories', 'Gibraltar', 'Guadeloupe',\n",
       "       'Guernsey', 'Heard and McDonald Islands', 'Holy See', 'Jersey',\n",
       "       'Martinique', 'Mayotte', 'Micronesia (Federated States of)',\n",
       "       'Montserrat', 'Nauru', 'Netherlands (Kingdom of the)', 'Niue',\n",
       "       'Norfolk Island', 'North Macedonia', 'Palestine', 'Pitcairn',\n",
       "       'Réunion', 'Saint Barthélemy',\n",
       "       'Saint Helena, Ascension and Tristan da Cunha',\n",
       "       'Saint Martin (French part)', 'Saint Pierre and Miquelon',\n",
       "       'Sint Maarten (Dutch part)',\n",
       "       'South Georgia and the South Sandwich Islands',\n",
       "       'Svalbard and Jan Mayen Islands', 'Tokelau',\n",
       "       'United Kingdom of Great Britain and Northern Ireland',\n",
       "       'United States Minor Outlying Islands',\n",
       "       'Wallis and Futuna Islands', 'Western Sahara'], dtype=object)"
      ]
     },
     "execution_count": 35,
     "metadata": {},
     "output_type": "execute_result"
    }
   ],
   "source": [
    "df_hun_iso[df_hun_iso['ISO_code'].isnull()]['country'].unique()\n",
    "\n",
    "# Unfortunatelly quite a lot of countries couldn't be matched"
   ]
  },
  {
   "cell_type": "code",
   "execution_count": null,
   "id": "9d50367a",
   "metadata": {},
   "outputs": [],
   "source": []
  }
 ],
 "metadata": {
  "kernelspec": {
   "display_name": "Python 3 (ipykernel)",
   "language": "python",
   "name": "python3"
  },
  "language_info": {
   "codemirror_mode": {
    "name": "ipython",
    "version": 3
   },
   "file_extension": ".py",
   "mimetype": "text/x-python",
   "name": "python",
   "nbconvert_exporter": "python",
   "pygments_lexer": "ipython3",
   "version": "3.10.9"
  }
 },
 "nbformat": 4,
 "nbformat_minor": 5
}
